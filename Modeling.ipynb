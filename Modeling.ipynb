{
 "cells": [
  {
   "cell_type": "code",
   "execution_count": 349,
   "metadata": {},
   "outputs": [],
   "source": [
    "import pandas as pd\n",
    "import numpy as np\n",
    "from collections import Counter, defaultdict\n",
    "from sklearn.model_selection import train_test_split, cross_val_score, RepeatedStratifiedKFold\n",
    "from sklearn.preprocessing import StandardScaler\n",
    "from statsmodels.discrete.discrete_model import Logit\n",
    "import sklearn.model_selection as cv\n",
    "import sklearn.metrics as metrics\n",
    "from statsmodels.tools import add_constant\n",
    "\n",
    "from sklearn.linear_model import LogisticRegression\n",
    "from sklearn.ensemble import GradientBoostingClassifier, RandomForestClassifier, IsolationForest\n",
    "from xgboost import XGBClassifier\n",
    "from imblearn.pipeline import Pipeline\n",
    "from imblearn.over_sampling import SVMSMOTE\n",
    "from imblearn.under_sampling import RandomUnderSampler\n",
    "import pymc3 as pm\n",
    "\n",
    "import matplotlib.pyplot as plt\n",
    "%matplotlib inline\n",
    "plt.style.use('fivethirtyeight')\n",
    "\n",
    "import warnings\n",
    "warnings.filterwarnings(\"ignore\", category=FutureWarning)"
   ]
  },
  {
   "cell_type": "code",
   "execution_count": 3,
   "metadata": {},
   "outputs": [
    {
     "data": {
      "text/html": [
       "<div>\n",
       "<style scoped>\n",
       "    .dataframe tbody tr th:only-of-type {\n",
       "        vertical-align: middle;\n",
       "    }\n",
       "\n",
       "    .dataframe tbody tr th {\n",
       "        vertical-align: top;\n",
       "    }\n",
       "\n",
       "    .dataframe thead th {\n",
       "        text-align: right;\n",
       "    }\n",
       "</style>\n",
       "<table border=\"1\" class=\"dataframe\">\n",
       "  <thead>\n",
       "    <tr style=\"text-align: right;\">\n",
       "      <th></th>\n",
       "      <th>amount</th>\n",
       "      <th>hour</th>\n",
       "      <th>account_id</th>\n",
       "      <th>field1</th>\n",
       "      <th>field2</th>\n",
       "      <th>flag1</th>\n",
       "      <th>field3</th>\n",
       "      <th>field4</th>\n",
       "      <th>indicator1</th>\n",
       "      <th>indicator2</th>\n",
       "      <th>flag2</th>\n",
       "      <th>flag4</th>\n",
       "      <th>flag5</th>\n",
       "      <th>fraud</th>\n",
       "    </tr>\n",
       "  </thead>\n",
       "  <tbody>\n",
       "    <tr>\n",
       "      <td>0</td>\n",
       "      <td>12.95</td>\n",
       "      <td>0</td>\n",
       "      <td>1234567890123456</td>\n",
       "      <td>0</td>\n",
       "      <td>0</td>\n",
       "      <td>0</td>\n",
       "      <td>-723</td>\n",
       "      <td>19</td>\n",
       "      <td>0</td>\n",
       "      <td>0</td>\n",
       "      <td>0</td>\n",
       "      <td>0</td>\n",
       "      <td>1</td>\n",
       "      <td>0</td>\n",
       "    </tr>\n",
       "    <tr>\n",
       "      <td>1</td>\n",
       "      <td>38.85</td>\n",
       "      <td>0</td>\n",
       "      <td>1234567890123460</td>\n",
       "      <td>3</td>\n",
       "      <td>1</td>\n",
       "      <td>0</td>\n",
       "      <td>-4074</td>\n",
       "      <td>21</td>\n",
       "      <td>0</td>\n",
       "      <td>0</td>\n",
       "      <td>1</td>\n",
       "      <td>0</td>\n",
       "      <td>1</td>\n",
       "      <td>0</td>\n",
       "    </tr>\n",
       "    <tr>\n",
       "      <td>2</td>\n",
       "      <td>12.95</td>\n",
       "      <td>0</td>\n",
       "      <td>1234567890123461</td>\n",
       "      <td>3</td>\n",
       "      <td>0</td>\n",
       "      <td>1</td>\n",
       "      <td>-2753</td>\n",
       "      <td>24</td>\n",
       "      <td>0</td>\n",
       "      <td>0</td>\n",
       "      <td>1</td>\n",
       "      <td>0</td>\n",
       "      <td>1</td>\n",
       "      <td>0</td>\n",
       "    </tr>\n",
       "    <tr>\n",
       "      <td>3</td>\n",
       "      <td>10.36</td>\n",
       "      <td>0</td>\n",
       "      <td>1234567890123463</td>\n",
       "      <td>3</td>\n",
       "      <td>1</td>\n",
       "      <td>1</td>\n",
       "      <td>5927</td>\n",
       "      <td>7</td>\n",
       "      <td>0</td>\n",
       "      <td>0</td>\n",
       "      <td>1</td>\n",
       "      <td>0</td>\n",
       "      <td>2</td>\n",
       "      <td>0</td>\n",
       "    </tr>\n",
       "    <tr>\n",
       "      <td>4</td>\n",
       "      <td>49.95</td>\n",
       "      <td>0</td>\n",
       "      <td>1234567890123464</td>\n",
       "      <td>3</td>\n",
       "      <td>0</td>\n",
       "      <td>1</td>\n",
       "      <td>4942</td>\n",
       "      <td>9</td>\n",
       "      <td>0</td>\n",
       "      <td>0</td>\n",
       "      <td>1</td>\n",
       "      <td>0</td>\n",
       "      <td>1</td>\n",
       "      <td>0</td>\n",
       "    </tr>\n",
       "  </tbody>\n",
       "</table>\n",
       "</div>"
      ],
      "text/plain": [
       "   amount  hour        account_id  field1  field2  flag1  field3  field4  \\\n",
       "0   12.95     0  1234567890123456       0       0      0    -723      19   \n",
       "1   38.85     0  1234567890123460       3       1      0   -4074      21   \n",
       "2   12.95     0  1234567890123461       3       0      1   -2753      24   \n",
       "3   10.36     0  1234567890123463       3       1      1    5927       7   \n",
       "4   49.95     0  1234567890123464       3       0      1    4942       9   \n",
       "\n",
       "   indicator1  indicator2  flag2  flag4  flag5  fraud  \n",
       "0           0           0      0      0      1      0  \n",
       "1           0           0      1      0      1      0  \n",
       "2           0           0      1      0      1      0  \n",
       "3           0           0      1      0      2      0  \n",
       "4           0           0      1      0      1      0  "
      ]
     },
     "execution_count": 3,
     "metadata": {},
     "output_type": "execute_result"
    }
   ],
   "source": [
    "df = pd.read_csv('data/train.csv')\n",
    "df.head()"
   ]
  },
  {
   "cell_type": "code",
   "execution_count": 69,
   "metadata": {},
   "outputs": [],
   "source": [
    "y = df['fraud']\n",
    "X = df.drop(columns='fraud')\n",
    "X_train, X_test, y_train, y_test = train_test_split(StandardScaler().fit_transform(X.values), y.values, random_state=7, stratify=y.values)"
   ]
  },
  {
   "cell_type": "code",
   "execution_count": 70,
   "metadata": {},
   "outputs": [
    {
     "data": {
      "text/plain": [
       "48079"
      ]
     },
     "execution_count": 70,
     "metadata": {},
     "output_type": "execute_result"
    }
   ],
   "source": [
    "(y_train == 0).sum()"
   ]
  },
  {
   "cell_type": "code",
   "execution_count": 6,
   "metadata": {},
   "outputs": [],
   "source": [
    "train_matrix = np.array([[(y_train == 0).sum(),0], [0, (y_train == 1).sum()]])\n",
    "test_matrix = np.array([[(y_test == 0).sum(),0], [0, (y_test == 1).sum()]])"
   ]
  },
  {
   "cell_type": "code",
   "execution_count": 7,
   "metadata": {},
   "outputs": [
    {
     "data": {
      "text/plain": [
       "array([[48079,     0],\n",
       "       [    0,  1279]])"
      ]
     },
     "execution_count": 7,
     "metadata": {},
     "output_type": "execute_result"
    }
   ],
   "source": [
    "train_matrix"
   ]
  },
  {
   "cell_type": "code",
   "execution_count": 8,
   "metadata": {},
   "outputs": [
    {
     "data": {
      "text/plain": [
       "array([[16026,     0],\n",
       "       [    0,   427]])"
      ]
     },
     "execution_count": 8,
     "metadata": {},
     "output_type": "execute_result"
    }
   ],
   "source": [
    "test_matrix"
   ]
  },
  {
   "cell_type": "code",
   "execution_count": 12,
   "metadata": {
    "jupyter": {
     "source_hidden": true
    }
   },
   "outputs": [],
   "source": [
    "'''def model_scores(X, y, estimator, p=False, train=False):\n",
    "    if train:\n",
    "        scores = cv.cross_validate(estimator, X, y, scoring=['accuracy', 'precision', 'recall', 'neg_log_loss'], cv=5)\n",
    "        acc = np.mean(scores['test_accuracy'])\n",
    "        precision = np.mean(scores['test_precision'])\n",
    "        recall = np.mean(scores['test_recall'])\n",
    "        log_loss = -np.mean(scores['test_neg_log_loss'])\n",
    "    else:\n",
    "        y_hat = estimator.predict(X)\n",
    "        acc = metrics.accuracy_score(y, y_hat)\n",
    "        precision = metrics.precision_score(y, y_hat)\n",
    "        recall = metrics.recall_score(y, y_hat)\n",
    "        log_loss = metrics.log_loss(y, estimator.predict_proba(X))\n",
    "    if p:\n",
    "        print (\"Accuracy: {0:2.3} | Precision: {1} | Recall: {2} | Log_loss: {3:2.3}\".format(\n",
    "                                                                    acc, precision, recall, log_loss))                                                           \n",
    "    else:\n",
    "        return acc, precision, recall, log_loss'''"
   ]
  },
  {
   "cell_type": "code",
   "execution_count": 53,
   "metadata": {},
   "outputs": [],
   "source": [
    "LR = LogisticRegression(solver='lbfgs',max_iter=1000, class_weight='balanced', tol=.0001)"
   ]
  },
  {
   "cell_type": "code",
   "execution_count": 30,
   "metadata": {},
   "outputs": [],
   "source": [
    "#const_X_train = add_constant(X_train, prepend=True)\n",
    "#scaled_Xtrain = StandardScaler().fit_transform(X_train)"
   ]
  },
  {
   "cell_type": "code",
   "execution_count": 71,
   "metadata": {},
   "outputs": [
    {
     "data": {
      "text/plain": [
       "LogisticRegression(C=1.0, class_weight='balanced', dual=False,\n",
       "                   fit_intercept=True, intercept_scaling=1, l1_ratio=None,\n",
       "                   max_iter=1000, multi_class='auto', n_jobs=None, penalty='l2',\n",
       "                   random_state=None, solver='lbfgs', tol=0.0001, verbose=0,\n",
       "                   warm_start=False)"
      ]
     },
     "execution_count": 71,
     "metadata": {},
     "output_type": "execute_result"
    }
   ],
   "source": [
    "LR.fit(X_train, y_train)"
   ]
  },
  {
   "cell_type": "code",
   "execution_count": 127,
   "metadata": {},
   "outputs": [
    {
     "data": {
      "text/plain": [
       "0.9998526078707068"
      ]
     },
     "execution_count": 127,
     "metadata": {},
     "output_type": "execute_result"
    }
   ],
   "source": [
    "LR.predict_proba(X_train)"
   ]
  },
  {
   "cell_type": "code",
   "execution_count": 428,
   "metadata": {},
   "outputs": [],
   "source": [
    "def predict(model, X, threshold=0.5):\n",
    "    '''Return prediction of the fitted binary-classifier model model on X using\n",
    "    the specifed `threshold`. NB: class 0 is the positive class'''\n",
    "    return np.where(model.predict_proba(X)[:, 1] > threshold,\n",
    "                    model.classes_[1],\n",
    "                    model.classes_[0])\n",
    "\n",
    "def confusion_matrix(model, X, y, threshold=0.5):\n",
    "    cf = pd.crosstab(y, predict(model, X, threshold))\n",
    "    cf = cf.rename(columns={0:'Not', 1:'Fraud'}, index={0:'Not', 1:'Fraud'})\n",
    "    cf.index.name = 'actual'\n",
    "    cf.columns.name = 'predicted'\n",
    "    return cf\n",
    "\n",
    "def total_cost(predicted, cb=cost_benefit):\n",
    "    cost = predicted*cb\n",
    "    return cost.values.sum()"
   ]
  },
  {
   "cell_type": "code",
   "execution_count": 190,
   "metadata": {},
   "outputs": [
    {
     "data": {
      "text/plain": [
       "array([[  0, -10],\n",
       "       [-27,   5]])"
      ]
     },
     "execution_count": 190,
     "metadata": {},
     "output_type": "execute_result"
    }
   ],
   "source": [
    "cost_benefit = np.array([[0, -10],[-27,5]])\n",
    "cost_benefit"
   ]
  },
  {
   "cell_type": "code",
   "execution_count": 202,
   "metadata": {},
   "outputs": [
    {
     "data": {
      "text/html": [
       "<div>\n",
       "<style scoped>\n",
       "    .dataframe tbody tr th:only-of-type {\n",
       "        vertical-align: middle;\n",
       "    }\n",
       "\n",
       "    .dataframe tbody tr th {\n",
       "        vertical-align: top;\n",
       "    }\n",
       "\n",
       "    .dataframe thead th {\n",
       "        text-align: right;\n",
       "    }\n",
       "</style>\n",
       "<table border=\"1\" class=\"dataframe\">\n",
       "  <thead>\n",
       "    <tr style=\"text-align: right;\">\n",
       "      <th>predicted</th>\n",
       "      <th>Not</th>\n",
       "      <th>Fraud</th>\n",
       "    </tr>\n",
       "    <tr>\n",
       "      <th>actual</th>\n",
       "      <th></th>\n",
       "      <th></th>\n",
       "    </tr>\n",
       "  </thead>\n",
       "  <tbody>\n",
       "    <tr>\n",
       "      <td>Not</td>\n",
       "      <td>16022</td>\n",
       "      <td>4</td>\n",
       "    </tr>\n",
       "    <tr>\n",
       "      <td>Fraud</td>\n",
       "      <td>427</td>\n",
       "      <td>0</td>\n",
       "    </tr>\n",
       "  </tbody>\n",
       "</table>\n",
       "</div>"
      ],
      "text/plain": [
       "predicted    Not  Fraud\n",
       "actual                 \n",
       "Not        16022      4\n",
       "Fraud        427      0"
      ]
     },
     "execution_count": 202,
     "metadata": {},
     "output_type": "execute_result"
    }
   ],
   "source": [
    "confusion_matrix(LR, X_test, y_test, threshold=.1)"
   ]
  },
  {
   "cell_type": "code",
   "execution_count": 204,
   "metadata": {},
   "outputs": [
    {
     "data": {
      "text/plain": [
       "Text(0.5, 1.0, 'Profit Curve')"
      ]
     },
     "execution_count": 204,
     "metadata": {},
     "output_type": "execute_result"
    },
    {
     "data": {
      "image/png": "[encoded data removed]",
      "text/plain": [
       "<Figure size 864x504 with 1 Axes>"
      ]
     },
     "metadata": {},
     "output_type": "display_data"
    }
   ],
   "source": [
    "thresholds = np.arange(0.01, 0.65, 0.01)\n",
    "profits = []\n",
    "for threshold in thresholds:\n",
    "    profits.append(total_cost(confusion_matrix(LR, X_test, y_test, threshold=threshold)))\n",
    "    \n",
    "fig, ax = plt.subplots(figsize=(12, 7))\n",
    "ax.plot(thresholds, profits)\n",
    "ax.set_xlabel('thresholds')\n",
    "ax.set_ylabel('loss')\n",
    "ax.set_title('Profit Curve')"
   ]
  },
  {
   "cell_type": "code",
   "execution_count": 64,
   "metadata": {},
   "outputs": [],
   "source": []
  },
  {
   "cell_type": "code",
   "execution_count": 64,
   "metadata": {},
   "outputs": [],
   "source": []
  },
  {
   "cell_type": "code",
   "execution_count": null,
   "metadata": {},
   "outputs": [],
   "source": []
  },
  {
   "cell_type": "code",
   "execution_count": 44,
   "metadata": {},
   "outputs": [],
   "source": [
    "#WELL SHIT"
   ]
  },
  {
   "cell_type": "code",
   "execution_count": 227,
   "metadata": {},
   "outputs": [],
   "source": [
    "dummy_df = pd.read_pickle('data/dummy_train.pkl')"
   ]
  },
  {
   "cell_type": "code",
   "execution_count": 300,
   "metadata": {},
   "outputs": [
    {
     "data": {
      "text/html": [
       "<div>\n",
       "<style scoped>\n",
       "    .dataframe tbody tr th:only-of-type {\n",
       "        vertical-align: middle;\n",
       "    }\n",
       "\n",
       "    .dataframe tbody tr th {\n",
       "        vertical-align: top;\n",
       "    }\n",
       "\n",
       "    .dataframe thead th {\n",
       "        text-align: right;\n",
       "    }\n",
       "</style>\n",
       "<table border=\"1\" class=\"dataframe\">\n",
       "  <thead>\n",
       "    <tr style=\"text-align: right;\">\n",
       "      <th></th>\n",
       "      <th>amount</th>\n",
       "      <th>hour</th>\n",
       "      <th>account_id</th>\n",
       "      <th>field2</th>\n",
       "      <th>flag1</th>\n",
       "      <th>field3</th>\n",
       "      <th>indicator1</th>\n",
       "      <th>indicator2</th>\n",
       "      <th>flag2</th>\n",
       "      <th>flag3</th>\n",
       "      <th>...</th>\n",
       "      <th>flag5_6</th>\n",
       "      <th>flag5_7</th>\n",
       "      <th>flag5_8</th>\n",
       "      <th>flag5_9</th>\n",
       "      <th>flag5_98</th>\n",
       "      <th>flag5_100</th>\n",
       "      <th>flag5_364</th>\n",
       "      <th>flag5_1434</th>\n",
       "      <th>flag5_1600</th>\n",
       "      <th>flag5_1643</th>\n",
       "    </tr>\n",
       "  </thead>\n",
       "  <tbody>\n",
       "    <tr>\n",
       "      <td>0</td>\n",
       "      <td>12.95</td>\n",
       "      <td>0</td>\n",
       "      <td>1234567890123456</td>\n",
       "      <td>0</td>\n",
       "      <td>0</td>\n",
       "      <td>-723</td>\n",
       "      <td>0</td>\n",
       "      <td>0</td>\n",
       "      <td>0</td>\n",
       "      <td>0</td>\n",
       "      <td>...</td>\n",
       "      <td>0</td>\n",
       "      <td>0</td>\n",
       "      <td>0</td>\n",
       "      <td>0</td>\n",
       "      <td>0</td>\n",
       "      <td>0</td>\n",
       "      <td>0</td>\n",
       "      <td>0</td>\n",
       "      <td>0</td>\n",
       "      <td>0</td>\n",
       "    </tr>\n",
       "    <tr>\n",
       "      <td>2</td>\n",
       "      <td>38.85</td>\n",
       "      <td>0</td>\n",
       "      <td>1234567890123458</td>\n",
       "      <td>1</td>\n",
       "      <td>0</td>\n",
       "      <td>-4420</td>\n",
       "      <td>0</td>\n",
       "      <td>0</td>\n",
       "      <td>1</td>\n",
       "      <td>1</td>\n",
       "      <td>...</td>\n",
       "      <td>0</td>\n",
       "      <td>0</td>\n",
       "      <td>0</td>\n",
       "      <td>0</td>\n",
       "      <td>0</td>\n",
       "      <td>0</td>\n",
       "      <td>0</td>\n",
       "      <td>0</td>\n",
       "      <td>0</td>\n",
       "      <td>0</td>\n",
       "    </tr>\n",
       "    <tr>\n",
       "      <td>3</td>\n",
       "      <td>12.95</td>\n",
       "      <td>0</td>\n",
       "      <td>1234567890123459</td>\n",
       "      <td>0</td>\n",
       "      <td>0</td>\n",
       "      <td>5010</td>\n",
       "      <td>0</td>\n",
       "      <td>0</td>\n",
       "      <td>1</td>\n",
       "      <td>0</td>\n",
       "      <td>...</td>\n",
       "      <td>0</td>\n",
       "      <td>0</td>\n",
       "      <td>0</td>\n",
       "      <td>0</td>\n",
       "      <td>0</td>\n",
       "      <td>0</td>\n",
       "      <td>0</td>\n",
       "      <td>0</td>\n",
       "      <td>0</td>\n",
       "      <td>0</td>\n",
       "    </tr>\n",
       "    <tr>\n",
       "      <td>4</td>\n",
       "      <td>38.85</td>\n",
       "      <td>0</td>\n",
       "      <td>1234567890123460</td>\n",
       "      <td>1</td>\n",
       "      <td>0</td>\n",
       "      <td>-4074</td>\n",
       "      <td>0</td>\n",
       "      <td>0</td>\n",
       "      <td>1</td>\n",
       "      <td>0</td>\n",
       "      <td>...</td>\n",
       "      <td>0</td>\n",
       "      <td>0</td>\n",
       "      <td>0</td>\n",
       "      <td>0</td>\n",
       "      <td>0</td>\n",
       "      <td>0</td>\n",
       "      <td>0</td>\n",
       "      <td>0</td>\n",
       "      <td>0</td>\n",
       "      <td>0</td>\n",
       "    </tr>\n",
       "    <tr>\n",
       "      <td>5</td>\n",
       "      <td>12.95</td>\n",
       "      <td>0</td>\n",
       "      <td>1234567890123461</td>\n",
       "      <td>0</td>\n",
       "      <td>1</td>\n",
       "      <td>-2753</td>\n",
       "      <td>0</td>\n",
       "      <td>0</td>\n",
       "      <td>1</td>\n",
       "      <td>1</td>\n",
       "      <td>...</td>\n",
       "      <td>0</td>\n",
       "      <td>0</td>\n",
       "      <td>0</td>\n",
       "      <td>0</td>\n",
       "      <td>0</td>\n",
       "      <td>0</td>\n",
       "      <td>0</td>\n",
       "      <td>0</td>\n",
       "      <td>0</td>\n",
       "      <td>0</td>\n",
       "    </tr>\n",
       "  </tbody>\n",
       "</table>\n",
       "<p>5 rows × 69 columns</p>\n",
       "</div>"
      ],
      "text/plain": [
       "   amount  hour        account_id  field2  flag1  field3  indicator1  \\\n",
       "0   12.95     0  1234567890123456       0      0    -723           0   \n",
       "2   38.85     0  1234567890123458       1      0   -4420           0   \n",
       "3   12.95     0  1234567890123459       0      0    5010           0   \n",
       "4   38.85     0  1234567890123460       1      0   -4074           0   \n",
       "5   12.95     0  1234567890123461       0      1   -2753           0   \n",
       "\n",
       "   indicator2  flag2  flag3  ...  flag5_6  flag5_7  flag5_8  flag5_9  \\\n",
       "0           0      0      0  ...        0        0        0        0   \n",
       "2           0      1      1  ...        0        0        0        0   \n",
       "3           0      1      0  ...        0        0        0        0   \n",
       "4           0      1      0  ...        0        0        0        0   \n",
       "5           0      1      1  ...        0        0        0        0   \n",
       "\n",
       "   flag5_98  flag5_100  flag5_364  flag5_1434  flag5_1600  flag5_1643  \n",
       "0         0          0          0           0           0           0  \n",
       "2         0          0          0           0           0           0  \n",
       "3         0          0          0           0           0           0  \n",
       "4         0          0          0           0           0           0  \n",
       "5         0          0          0           0           0           0  \n",
       "\n",
       "[5 rows x 69 columns]"
      ]
     },
     "execution_count": 300,
     "metadata": {},
     "output_type": "execute_result"
    }
   ],
   "source": [
    "dummy_df.head()"
   ]
  },
  {
   "cell_type": "code",
   "execution_count": 301,
   "metadata": {},
   "outputs": [],
   "source": [
    "y = dummy_df['fraud']\n",
    "X = dummy_df.drop(columns='fraud')\n",
    "X_train, X_test, y_train, y_test = train_test_split(X.values, y.values, random_state=7, stratify=y.values)"
   ]
  },
  {
   "cell_type": "code",
   "execution_count": 240,
   "metadata": {},
   "outputs": [
    {
     "data": {
      "text/plain": [
       "RandomForestClassifier(bootstrap=True, ccp_alpha=0.0,\n",
       "                       class_weight={0: 1, 1: 150}, criterion='gini',\n",
       "                       max_depth=None, max_features='auto', max_leaf_nodes=None,\n",
       "                       max_samples=None, min_impurity_decrease=0.0,\n",
       "                       min_impurity_split=None, min_samples_leaf=1,\n",
       "                       min_samples_split=2, min_weight_fraction_leaf=0.0,\n",
       "                       n_estimators=20, n_jobs=-1, oob_score=False,\n",
       "                       random_state=None, verbose=0, warm_start=False)"
      ]
     },
     "execution_count": 240,
     "metadata": {},
     "output_type": "execute_result"
    }
   ],
   "source": [
    "RFC = RandomForestClassifier(n_estimators=20, class_weight={0:1,1:150}, n_jobs=-1)\n",
    "RFC.fit(X_train, y_train)"
   ]
  },
  {
   "cell_type": "code",
   "execution_count": 287,
   "metadata": {},
   "outputs": [],
   "source": [
    "def print_results(X, y, model, threshold=.1, p=True):\n",
    "    if p:\n",
    "        yhat = predict(model, X, threshold)\n",
    "    else:\n",
    "        yhat = model.predict(X)\n",
    "    tn, fp, fn, tp = metrics.confusion_matrix(y, yhat).flatten()\n",
    "    print ('  TP  |  FN  |  FP  |  TN  ')\n",
    "    print ('--------------------------')\n",
    "    print(f'{tp:6d}|{fn:6d}|{fp:6d}|{tn:6d}')\n",
    "    print ('--------------------------')\n",
    "    recall = metrics.recall_score(y, yhat)\n",
    "    roc = metrics.roc_auc_score(y, yhat)\n",
    "    f1 = metrics.f1_score(y, yhat)\n",
    "    print(f'Recall:  {recall:0.4g}')\n",
    "    print(f'ROC_AUC: {roc:.4f}')\n",
    "    print(f'F1:      {f1:.4f}')"
   ]
  },
  {
   "cell_type": "code",
   "execution_count": 257,
   "metadata": {},
   "outputs": [
    {
     "name": "stdout",
     "output_type": "stream",
     "text": [
      "Training Data | Simple Random Forest\n",
      "  TP  |  FN  |  FP  |  TN  \n",
      "--------------------------\n",
      "     0|  1354| 49253|   395\n",
      "--------------------------\n",
      "Recall:  0\n",
      "ROC_AUC: 0.0040\n",
      "\n",
      "Testing  Data | Simple Random Forest\n",
      "  TP  |  FN  |  FP  |  TN  \n",
      "--------------------------\n",
      "   441|    11| 16382|   167\n",
      "--------------------------\n",
      "Recall:  0.9757\n",
      "ROC_AUC: 0.4929\n"
     ]
    }
   ],
   "source": [
    "print ('Training Data | Simple Random Forest')\n",
    "print_results(X_train, y_train, RFC)\n",
    "print ('')\n",
    "print ('Testing  Data | Simple Random Forest')\n",
    "print_results(X_test, y_test, RFC, .2)"
   ]
  },
  {
   "cell_type": "code",
   "execution_count": 42,
   "metadata": {},
   "outputs": [
    {
     "name": "stdout",
     "output_type": "stream",
     "text": [
      "field3: 0.45673968367419\n",
      "field4: 0.1686054838530603\n",
      "hour: 0.14267936800228714\n",
      "amount: 0.08669534756324268\n",
      "field1: 0.04604653258973908\n"
     ]
    }
   ],
   "source": [
    "feature_importances = RFC.feature_importances_\n",
    "features = df.columns[:-1]\n",
    "order = np.argsort(feature_importances)[::-1]\n",
    "for feat_score, feature in zip(feature_importances[order][:5], features[order][:5]):\n",
    "    print (f'{feature}: {feat_score}')"
   ]
  },
  {
   "cell_type": "code",
   "execution_count": 51,
   "metadata": {},
   "outputs": [],
   "source": [
    "importances = np.empty((100, len(df.columns[:-1])))\n",
    "for i, tree in enumerate(RFC.estimators_):\n",
    "    importances[i, :] = tree.feature_importances_"
   ]
  },
  {
   "cell_type": "code",
   "execution_count": 53,
   "metadata": {
    "collapsed": true,
    "jupyter": {
     "outputs_hidden": true,
     "source_hidden": true
    }
   },
   "outputs": [
    {
     "data": {
      "image/png": "[encoded data removed]",
      "text/plain": [
       "<Figure size 1296x864 with 1 Axes>"
      ]
     },
     "metadata": {},
     "output_type": "display_data"
    }
   ],
   "source": [
    "'''fig, ax = plt.subplots(figsize=(18, 12))\n",
    "ax.boxplot(importances, labels=df.columns[:-1])\n",
    "ax.set_ylabel('Feature Importance Distribution Over 100 Estimators', fontsize=15)\n",
    "ax.set_xticklabels(labels=df.columns[:-1], rotation=45, fontsize=12)\n",
    "ax.set_title('Feature Importance in Model', fontsize=30)\n",
    "fig.savefig('FeatureImportance.png');'''"
   ]
  },
  {
   "cell_type": "code",
   "execution_count": 346,
   "metadata": {},
   "outputs": [],
   "source": [
    "over = SVMSMOTE(sampling_strategy=0.1)\n",
    "under = RandomUnderSampler(sampling_strategy=0.5)\n",
    "steps = [('over', over), ('under', under), ('model', rf_best_estimator)]\n",
    "pipeline = Pipeline(steps=steps)"
   ]
  },
  {
   "cell_type": "code",
   "execution_count": 352,
   "metadata": {},
   "outputs": [
    {
     "name": "stdout",
     "output_type": "stream",
     "text": [
      "Mean ROC AUC: 0.538\n"
     ]
    }
   ],
   "source": [
    "cv_ = RepeatedStratifiedKFold(n_splits=5, n_repeats=3, random_state=1)\n",
    "scores = cross_val_score(pipeline, X_train, y_train, scoring='roc_auc', cv=cv_, n_jobs=-1)\n",
    "print('Mean ROC AUC: %.3f' % np.mean(scores))"
   ]
  },
  {
   "cell_type": "code",
   "execution_count": 358,
   "metadata": {},
   "outputs": [
    {
     "name": "stderr",
     "output_type": "stream",
     "text": [
      "/Library/Python/anaconda3/lib/python3.7/site-packages/sklearn/metrics/_classification.py:1272: UndefinedMetricWarning: Precision is ill-defined and being set to 0.0 due to no predicted samples. Use `zero_division` parameter to control this behavior.\n",
      "  _warn_prf(average, modifier, msg_start, len(result))\n"
     ]
    },
    {
     "data": {
      "text/plain": [
       "0.0"
      ]
     },
     "execution_count": 358,
     "metadata": {},
     "output_type": "execute_result"
    }
   ],
   "source": [
    "metrics.f1_score(y_test, pipeline.predict(X_test))"
   ]
  },
  {
   "cell_type": "code",
   "execution_count": 357,
   "metadata": {},
   "outputs": [],
   "source": [
    "#pipeline.fit(X_train, y_train)"
   ]
  },
  {
   "cell_type": "code",
   "execution_count": 224,
   "metadata": {},
   "outputs": [
    {
     "name": "stdout",
     "output_type": "stream",
     "text": [
      "Training Data | Smote Sampled Random Forest\n",
      "  TP  |  FN  |  FP  |  TN  \n",
      "--------------------------\n",
      "     7|  1347| 49560|    88\n",
      "--------------------------\n",
      "Recall:  0.00517\n",
      "ROC_AUC: 0.0035\n",
      "\n",
      "Testing  Data | Smote Sampled Random Forest\n",
      "  TP  |  FN  |  FP  |  TN  \n",
      "--------------------------\n",
      "   448|     4| 16502|    47\n",
      "--------------------------\n",
      "Recall:  0.9912\n",
      "ROC_AUC: 0.4970\n"
     ]
    }
   ],
   "source": [
    "print ('Training Data | Smote Sampled Random Forest')\n",
    "print_results(X_train, y_train, RFC)\n",
    "print ('')\n",
    "print ('Testing  Data | Smote Sampled Random Forest')\n",
    "print_results(X_test, y_test, RFC)"
   ]
  },
  {
   "cell_type": "code",
   "execution_count": 217,
   "metadata": {},
   "outputs": [
    {
     "data": {
      "text/plain": [
       "Text(0, 0.5, 'loss')"
      ]
     },
     "execution_count": 217,
     "metadata": {},
     "output_type": "execute_result"
    },
    {
     "data": {
      "image/png": "[encoded data removed]",
      "text/plain": [
       "<Figure size 864x504 with 1 Axes>"
      ]
     },
     "metadata": {},
     "output_type": "display_data"
    }
   ],
   "source": [
    "thresholds = np.arange(0.01, 0.65, 0.01)\n",
    "profits = []\n",
    "for threshold in thresholds:\n",
    "    profits.append(total_cost(confusion_matrix(RFC, X_test, y_test, threshold=threshold)))\n",
    "    \n",
    "fig, ax = plt.subplots(figsize=(12, 7))\n",
    "ax.plot(thresholds, profits)\n",
    "ax.set_xlabel('thresholds')\n",
    "ax.set_ylabel('loss')"
   ]
  },
  {
   "cell_type": "code",
   "execution_count": 221,
   "metadata": {},
   "outputs": [
    {
     "data": {
      "text/html": [
       "<div>\n",
       "<style scoped>\n",
       "    .dataframe tbody tr th:only-of-type {\n",
       "        vertical-align: middle;\n",
       "    }\n",
       "\n",
       "    .dataframe tbody tr th {\n",
       "        vertical-align: top;\n",
       "    }\n",
       "\n",
       "    .dataframe thead th {\n",
       "        text-align: right;\n",
       "    }\n",
       "</style>\n",
       "<table border=\"1\" class=\"dataframe\">\n",
       "  <thead>\n",
       "    <tr style=\"text-align: right;\">\n",
       "      <th>predicted</th>\n",
       "      <th>Not</th>\n",
       "      <th>Fraud</th>\n",
       "    </tr>\n",
       "    <tr>\n",
       "      <th>actual</th>\n",
       "      <th></th>\n",
       "      <th></th>\n",
       "    </tr>\n",
       "  </thead>\n",
       "  <tbody>\n",
       "    <tr>\n",
       "      <td>Not</td>\n",
       "      <td>9970</td>\n",
       "      <td>6579</td>\n",
       "    </tr>\n",
       "    <tr>\n",
       "      <td>Fraud</td>\n",
       "      <td>270</td>\n",
       "      <td>182</td>\n",
       "    </tr>\n",
       "  </tbody>\n",
       "</table>\n",
       "</div>"
      ],
      "text/plain": [
       "predicted   Not  Fraud\n",
       "actual                \n",
       "Not        9970   6579\n",
       "Fraud       270    182"
      ]
     },
     "execution_count": 221,
     "metadata": {},
     "output_type": "execute_result"
    }
   ],
   "source": [
    "confusion_matrix(RFC, X_test, y_test, threshold=.0001)"
   ]
  },
  {
   "cell_type": "code",
   "execution_count": 263,
   "metadata": {},
   "outputs": [
    {
     "name": "stdout",
     "output_type": "stream",
     "text": [
      "Fitting 15 folds for each of 432 candidates, totalling 6480 fits\n"
     ]
    },
    {
     "name": "stderr",
     "output_type": "stream",
     "text": [
      "[Parallel(n_jobs=-1)]: Using backend LokyBackend with 8 concurrent workers.\n",
      "[Parallel(n_jobs=-1)]: Done  34 tasks      | elapsed:    3.2s\n",
      "[Parallel(n_jobs=-1)]: Done 184 tasks      | elapsed:  2.0min\n",
      "[Parallel(n_jobs=-1)]: Done 434 tasks      | elapsed:  4.4min\n",
      "[Parallel(n_jobs=-1)]: Done 784 tasks      | elapsed:  8.0min\n",
      "[Parallel(n_jobs=-1)]: Done 1234 tasks      | elapsed: 11.2min\n",
      "[Parallel(n_jobs=-1)]: Done 1784 tasks      | elapsed: 12.1min\n",
      "[Parallel(n_jobs=-1)]: Done 2434 tasks      | elapsed: 13.3min\n",
      "[Parallel(n_jobs=-1)]: Done 3184 tasks      | elapsed: 15.0min\n",
      "[Parallel(n_jobs=-1)]: Done 4034 tasks      | elapsed: 23.9min\n",
      "[Parallel(n_jobs=-1)]: Done 4984 tasks      | elapsed: 28.8min\n",
      "[Parallel(n_jobs=-1)]: Done 6034 tasks      | elapsed: 31.6min\n",
      "[Parallel(n_jobs=-1)]: Done 6480 out of 6480 | elapsed: 32.9min finished\n"
     ]
    },
    {
     "name": "stdout",
     "output_type": "stream",
     "text": [
      "best parameters:         {'bootstrap': True, 'criterion': 'entropy', 'max_depth': None, 'max_features': 'sqrt', 'min_samples_leaf': 5, 'min_samples_split': 2, 'n_estimators': 20, 'random_state': 7}\n",
      "best estimator:          RandomForestClassifier(bootstrap=True, ccp_alpha=0.0, class_weight=None,\n",
      "                       criterion='entropy', max_depth=None, max_features='sqrt',\n",
      "                       max_leaf_nodes=None, max_samples=None,\n",
      "                       min_impurity_decrease=0.0, min_impurity_split=None,\n",
      "                       min_samples_leaf=5, min_samples_split=2,\n",
      "                       min_weight_fraction_leaf=0.0, n_estimators=20,\n",
      "                       n_jobs=None, oob_score=False, random_state=7, verbose=0,\n",
      "                       warm_start=False)\n",
      "Accuracy  of best:  0.9734133286277278\n",
      "Precision of best:  0.0\n",
      "Recall    of best:  0.0\n"
     ]
    },
    {
     "name": "stderr",
     "output_type": "stream",
     "text": [
      "/Library/Python/anaconda3/lib/python3.7/site-packages/sklearn/metrics/_classification.py:1272: UndefinedMetricWarning: Precision is ill-defined and being set to 0.0 due to no predicted samples. Use `zero_division` parameter to control this behavior.\n",
      "  _warn_prf(average, modifier, msg_start, len(result))\n"
     ]
    }
   ],
   "source": [
    "random_forest_grid = {'criterion':['entropy', 'gini'],\n",
    "                      'max_depth': [None, 1, 2],\n",
    "                      'max_features': ['sqrt','log2'],\n",
    "                      'min_samples_split': [0,2,5,8],\n",
    "                      'min_samples_leaf': [5,10,15],\n",
    "                      'bootstrap': [True],\n",
    "                      'n_estimators': [20, 50, 100],\n",
    "                      'random_state': [7]}\n",
    "\n",
    "cv_ = RepeatedStratifiedKFold(n_splits=5, n_repeats=3, random_state=1)\n",
    "\n",
    "rf_gridsearch = cv.GridSearchCV(RandomForestClassifier(),\n",
    "                             random_forest_grid,\n",
    "                             n_jobs=-1,\n",
    "                             verbose=True,\n",
    "                             scoring='f1',\n",
    "                             cv=cv_)\n",
    "\n",
    "rf_gridsearch.fit(X_train, y_train)\n",
    "\n",
    "print(\"best parameters:        \", rf_gridsearch.best_params_)\n",
    "\n",
    "rf_best_estimator = rf_gridsearch.best_estimator_\n",
    "print('best estimator:         ', rf_best_estimator)\n",
    "\n",
    "rf_best_prediction = rf_best_estimator.predict(X_test)\n",
    "print('Accuracy  of best: ', metrics.accuracy_score(y_test, rf_best_prediction))\n",
    "print('Precision of best: ', metrics.precision_score(y_test, rf_best_prediction))\n",
    "print('Recall    of best: ', metrics.recall_score(y_test, rf_best_prediction))"
   ]
  },
  {
   "cell_type": "code",
   "execution_count": 303,
   "metadata": {},
   "outputs": [
    {
     "data": {
      "text/plain": [
       "RandomForestClassifier(bootstrap=True, ccp_alpha=0.0, class_weight=None,\n",
       "                       criterion='entropy', max_depth=None, max_features='sqrt',\n",
       "                       max_leaf_nodes=None, max_samples=None,\n",
       "                       min_impurity_decrease=0.0, min_impurity_split=None,\n",
       "                       min_samples_leaf=5, min_samples_split=2,\n",
       "                       min_weight_fraction_leaf=0.0, n_estimators=20,\n",
       "                       n_jobs=None, oob_score=False, random_state=7, verbose=0,\n",
       "                       warm_start=False)"
      ]
     },
     "execution_count": 303,
     "metadata": {},
     "output_type": "execute_result"
    }
   ],
   "source": [
    "rf_best_estimator.fit(X_train, y_train)"
   ]
  },
  {
   "cell_type": "code",
   "execution_count": 315,
   "metadata": {},
   "outputs": [
    {
     "name": "stdout",
     "output_type": "stream",
     "text": [
      "Training Data | Simple Random Forest\n",
      "  TP  |  FN  |  FP  |  TN  \n",
      "--------------------------\n",
      "   861|   493| 49475|   173\n",
      "--------------------------\n",
      "Recall:  0.6359\n",
      "ROC_AUC: 0.3197\n",
      "F1:      0.0333\n",
      "\n",
      "Testing  Data | Simple Random Forest\n",
      "  TP  |  FN  |  FP  |  TN  \n",
      "--------------------------\n",
      "   241|   211|  9716|  6833\n",
      "--------------------------\n",
      "Recall:  0.5332\n",
      "ROC_AUC: 0.4730\n",
      "F1:      0.0463\n"
     ]
    }
   ],
   "source": [
    "print ('Training Data | Simple Random Forest')\n",
    "print_results(X_train, y_train, rf_best_estimator, y_train.mean())\n",
    "print ('')\n",
    "print ('Testing  Data | Simple Random Forest')\n",
    "print_results(X_test, y_test, rf_best_estimator, y_train.mean())"
   ]
  },
  {
   "cell_type": "code",
   "execution_count": 374,
   "metadata": {},
   "outputs": [],
   "source": [
    "iso = IsolationForest(contamination=.05, bootstrap=True, n_jobs=-1)"
   ]
  },
  {
   "cell_type": "code",
   "execution_count": 375,
   "metadata": {},
   "outputs": [
    {
     "data": {
      "text/plain": [
       "IsolationForest(behaviour='deprecated', bootstrap=True, contamination=0.05,\n",
       "                max_features=1.0, max_samples='auto', n_estimators=100,\n",
       "                n_jobs=-1, random_state=None, verbose=0, warm_start=False)"
      ]
     },
     "execution_count": 375,
     "metadata": {},
     "output_type": "execute_result"
    }
   ],
   "source": [
    "iso.fit(X_train, y_train)"
   ]
  },
  {
   "cell_type": "code",
   "execution_count": 420,
   "metadata": {},
   "outputs": [],
   "source": [
    "def iso_score(X, y, model, thresh=0):\n",
    "    #yhat = (model.predict(X) == -1).astype(int)\n",
    "    \n",
    "    yhat = model.decision_function(X)\n",
    "    preds = int(thresh*len(yhat))\n",
    "    cutoff = np.argsort(yhat)[preds]\n",
    "    yhat = (yhat <= ht[cutoff]).astype(int)\n",
    "    \n",
    "    tn, fp, fn, tp = metrics.confusion_matrix(y, yhat).flatten()\n",
    "    print ('  TP  |  FN  |  FP  |  TN  ')\n",
    "    print ('--------------------------')\n",
    "    print(f'{tp:6d}|{fn:6d}|{fp:6d}|{tn:6d}')\n",
    "    print ('--------------------------')\n",
    "    recall = metrics.recall_score(y, yhat)\n",
    "    roc = metrics.roc_auc_score(y, yhat)\n",
    "    f1 = metrics.f1_score(y, yhat)\n",
    "    print(f'Recall:  {recall:0.4g}')\n",
    "    print(f'ROC_AUC: {roc:.4f}')\n",
    "    print(f'F1:      {f1:.4f}')"
   ]
  },
  {
   "cell_type": "code",
   "execution_count": 378,
   "metadata": {},
   "outputs": [],
   "source": [
    "ht = iso.decision_function(X_train)"
   ]
  },
  {
   "cell_type": "code",
   "execution_count": 413,
   "metadata": {},
   "outputs": [
    {
     "name": "stdout",
     "output_type": "stream",
     "text": [
      "7878\n"
     ]
    },
    {
     "data": {
      "text/plain": [
       "array([[  493, 49155],\n",
       "       [   17,  1337]])"
      ]
     },
     "execution_count": 413,
     "metadata": {},
     "output_type": "execute_result"
    }
   ],
   "source": [
    "preds = int(.*len(ht))\n",
    "cutoff = np.argsort(ht)[preds]\n",
    "print (cutoff)\n",
    "yhat = (ht <= ht[cutoff]).astype(int)\n",
    "metrics.confusion_matrix(y_train, yhat)"
   ]
  },
  {
   "cell_type": "code",
   "execution_count": 415,
   "metadata": {},
   "outputs": [
    {
     "data": {
      "text/plain": [
       "255.10204081632654"
      ]
     },
     "execution_count": 415,
     "metadata": {},
     "output_type": "execute_result"
    }
   ],
   "source": [
    "50000/(98*2)"
   ]
  },
  {
   "cell_type": "code",
   "execution_count": 382,
   "metadata": {},
   "outputs": [
    {
     "data": {
      "text/plain": [
       "-0.07237718327071274"
      ]
     },
     "execution_count": 382,
     "metadata": {},
     "output_type": "execute_result"
    }
   ],
   "source": [
    "ht[]"
   ]
  },
  {
   "cell_type": "code",
   "execution_count": 422,
   "metadata": {},
   "outputs": [
    {
     "name": "stdout",
     "output_type": "stream",
     "text": [
      "Training Data | Simple ISO Forest\n",
      "  TP  |  FN  |  FP  |  TN  \n",
      "--------------------------\n",
      "   948|   406| 34754| 14894\n",
      "--------------------------\n",
      "Recall:  0.7001\n",
      "ROC_AUC: 0.5001\n",
      "F1:      0.0512\n",
      "\n",
      "Testing  Data | Simple ISOForest\n",
      "  TP  |  FN  |  FP  |  TN  \n",
      "--------------------------\n",
      "   152|   300|  5703| 10846\n",
      "--------------------------\n",
      "Recall:  0.3363\n",
      "ROC_AUC: 0.4958\n",
      "F1:      0.0482\n"
     ]
    }
   ],
   "source": [
    "print ('Training Data | Simple ISO Forest')\n",
    "iso_score(X_train, y_train, iso, .7)\n",
    "print ('')\n",
    "print ('Testing  Data | Simple ISOForest')\n",
    "iso_score(X_test, y_test, iso, .7)"
   ]
  },
  {
   "cell_type": "code",
   "execution_count": 326,
   "metadata": {},
   "outputs": [
    {
     "data": {
      "text/plain": [
       "136"
      ]
     },
     "execution_count": 326,
     "metadata": {},
     "output_type": "execute_result"
    }
   ],
   "source": [
    "(ht < 0).sum()"
   ]
  },
  {
   "cell_type": "code",
   "execution_count": null,
   "metadata": {},
   "outputs": [],
   "source": [
    "gradient_boosted_grid = {'loss':['exponential', 'deviance'],\n",
    "                         'max_depth': [None],\n",
    "                         'max_features': ['sqrt'],\n",
    "                         'min_samples_leaf': [2, 5],\n",
    "                         'n_estimators': [200],\n",
    "                         'random_state': [2]}\n",
    "\n",
    "gbr_gridsearch = cv.GridSearchCV(GradientBoostingClassifier(),\n",
    "                             gradient_boosted_grid,\n",
    "                             n_jobs=-1,\n",
    "                             verbose=True,\n",
    "                             scoring='f1',\n",
    "                             cv=cv_)\n",
    "gbr_gridsearch.fit(X_train, y_train)\n",
    "\n",
    "print(\"best parameters:        \", gbr_gridsearch.best_params_)\n",
    "\n",
    "gbr_best_estimator = gbr_gridsearch.best_estimator_\n",
    "print('best estimator:         ', gbr_best_estimator)\n",
    "\n",
    "gbr_best_prediction = gbr_best_estimator.predict(X_test)\n",
    "print('Accuracy  of best: ', metrics.accuracy_score(y_test, gbr_best_prediction))\n",
    "print('Precision of best: ', metrics.precision_score(y_test, gbr_best_prediction))\n",
    "print('Recall    of best: ', metrics.recall_score(y_test, gbr_best_prediction))"
   ]
  },
  {
   "cell_type": "code",
   "execution_count": 416,
   "metadata": {},
   "outputs": [],
   "source": [
    "GBR = GradientBoostingClassifier()"
   ]
  },
  {
   "cell_type": "code",
   "execution_count": 417,
   "metadata": {},
   "outputs": [
    {
     "data": {
      "text/plain": [
       "GradientBoostingClassifier(ccp_alpha=0.0, criterion='friedman_mse', init=None,\n",
       "                           learning_rate=0.1, loss='deviance', max_depth=3,\n",
       "                           max_features=None, max_leaf_nodes=None,\n",
       "                           min_impurity_decrease=0.0, min_impurity_split=None,\n",
       "                           min_samples_leaf=1, min_samples_split=2,\n",
       "                           min_weight_fraction_leaf=0.0, n_estimators=100,\n",
       "                           n_iter_no_change=None, presort='deprecated',\n",
       "                           random_state=None, subsample=1.0, tol=0.0001,\n",
       "                           validation_fraction=0.1, verbose=0,\n",
       "                           warm_start=False)"
      ]
     },
     "execution_count": 417,
     "metadata": {},
     "output_type": "execute_result"
    }
   ],
   "source": [
    "GBR.fit(X_train, y_train)"
   ]
  },
  {
   "cell_type": "code",
   "execution_count": 429,
   "metadata": {},
   "outputs": [
    {
     "name": "stdout",
     "output_type": "stream",
     "text": [
      "Training Data | Simple Random Forest\n",
      "  TP  |  FN  |  FP  |  TN  \n",
      "--------------------------\n",
      "   978|   376| 24030| 25618\n",
      "--------------------------\n",
      "Recall:  0.7223\n",
      "ROC_AUC: 0.6191\n",
      "F1:      0.0742\n",
      "\n",
      "Testing  Data | Simple Random Forest\n",
      "  TP  |  FN  |  FP  |  TN  \n",
      "--------------------------\n",
      "   262|   190|  8103|  8446\n",
      "--------------------------\n",
      "Recall:  0.5796\n",
      "ROC_AUC: 0.5450\n",
      "F1:      0.0594\n"
     ]
    }
   ],
   "source": [
    "print ('Training Data | Simple Random Forest')\n",
    "print_results(X_train, y_train, GBR, y_train.mean())\n",
    "print ('')\n",
    "print ('Testing  Data | Simple Random Forest')\n",
    "print_results(X_test, y_test, GBR, y_train.mean())"
   ]
  },
  {
   "cell_type": "code",
   "execution_count": 433,
   "metadata": {},
   "outputs": [
    {
     "name": "stdout",
     "output_type": "stream",
     "text": [
      "Mean ROC AUC: 0.551\n"
     ]
    }
   ],
   "source": [
    "over = SVMSMOTE(sampling_strategy=0.1, k_neighbors=8)\n",
    "under = RandomUnderSampler(sampling_strategy=0.6, replacement=True)\n",
    "steps = [('over', over), ('under', under), ('model', GBR)]\n",
    "pipeline = Pipeline(steps=steps)\n",
    "\n",
    "cv_ = RepeatedStratifiedKFold(n_splits=5, n_repeats=3, random_state=1)\n",
    "scores = cross_val_score(pipeline, X, y, scoring='roc_auc', cv=cv_, n_jobs=-1)\n",
    "print('Mean ROC AUC: %.3f' % np.mean(scores))"
   ]
  },
  {
   "cell_type": "code",
   "execution_count": 432,
   "metadata": {},
   "outputs": [
    {
     "data": {
      "text/html": [
       "<div>\n",
       "<style scoped>\n",
       "    .dataframe tbody tr th:only-of-type {\n",
       "        vertical-align: middle;\n",
       "    }\n",
       "\n",
       "    .dataframe tbody tr th {\n",
       "        vertical-align: top;\n",
       "    }\n",
       "\n",
       "    .dataframe thead th {\n",
       "        text-align: right;\n",
       "    }\n",
       "</style>\n",
       "<table border=\"1\" class=\"dataframe\">\n",
       "  <thead>\n",
       "    <tr style=\"text-align: right;\">\n",
       "      <th></th>\n",
       "      <th>amount</th>\n",
       "      <th>hour</th>\n",
       "      <th>account_id</th>\n",
       "      <th>field2</th>\n",
       "      <th>flag1</th>\n",
       "      <th>field3</th>\n",
       "      <th>indicator1</th>\n",
       "      <th>indicator2</th>\n",
       "      <th>flag2</th>\n",
       "      <th>flag3</th>\n",
       "      <th>...</th>\n",
       "      <th>flag5_6</th>\n",
       "      <th>flag5_7</th>\n",
       "      <th>flag5_8</th>\n",
       "      <th>flag5_9</th>\n",
       "      <th>flag5_98</th>\n",
       "      <th>flag5_100</th>\n",
       "      <th>flag5_364</th>\n",
       "      <th>flag5_1434</th>\n",
       "      <th>flag5_1600</th>\n",
       "      <th>flag5_1643</th>\n",
       "    </tr>\n",
       "  </thead>\n",
       "  <tbody>\n",
       "    <tr>\n",
       "      <td>0</td>\n",
       "      <td>12.95</td>\n",
       "      <td>0</td>\n",
       "      <td>1234567890123456</td>\n",
       "      <td>0</td>\n",
       "      <td>0</td>\n",
       "      <td>-723</td>\n",
       "      <td>0</td>\n",
       "      <td>0</td>\n",
       "      <td>0</td>\n",
       "      <td>0</td>\n",
       "      <td>...</td>\n",
       "      <td>0</td>\n",
       "      <td>0</td>\n",
       "      <td>0</td>\n",
       "      <td>0</td>\n",
       "      <td>0</td>\n",
       "      <td>0</td>\n",
       "      <td>0</td>\n",
       "      <td>0</td>\n",
       "      <td>0</td>\n",
       "      <td>0</td>\n",
       "    </tr>\n",
       "    <tr>\n",
       "      <td>2</td>\n",
       "      <td>38.85</td>\n",
       "      <td>0</td>\n",
       "      <td>1234567890123458</td>\n",
       "      <td>1</td>\n",
       "      <td>0</td>\n",
       "      <td>-4420</td>\n",
       "      <td>0</td>\n",
       "      <td>0</td>\n",
       "      <td>1</td>\n",
       "      <td>1</td>\n",
       "      <td>...</td>\n",
       "      <td>0</td>\n",
       "      <td>0</td>\n",
       "      <td>0</td>\n",
       "      <td>0</td>\n",
       "      <td>0</td>\n",
       "      <td>0</td>\n",
       "      <td>0</td>\n",
       "      <td>0</td>\n",
       "      <td>0</td>\n",
       "      <td>0</td>\n",
       "    </tr>\n",
       "    <tr>\n",
       "      <td>3</td>\n",
       "      <td>12.95</td>\n",
       "      <td>0</td>\n",
       "      <td>1234567890123459</td>\n",
       "      <td>0</td>\n",
       "      <td>0</td>\n",
       "      <td>5010</td>\n",
       "      <td>0</td>\n",
       "      <td>0</td>\n",
       "      <td>1</td>\n",
       "      <td>0</td>\n",
       "      <td>...</td>\n",
       "      <td>0</td>\n",
       "      <td>0</td>\n",
       "      <td>0</td>\n",
       "      <td>0</td>\n",
       "      <td>0</td>\n",
       "      <td>0</td>\n",
       "      <td>0</td>\n",
       "      <td>0</td>\n",
       "      <td>0</td>\n",
       "      <td>0</td>\n",
       "    </tr>\n",
       "    <tr>\n",
       "      <td>4</td>\n",
       "      <td>38.85</td>\n",
       "      <td>0</td>\n",
       "      <td>1234567890123460</td>\n",
       "      <td>1</td>\n",
       "      <td>0</td>\n",
       "      <td>-4074</td>\n",
       "      <td>0</td>\n",
       "      <td>0</td>\n",
       "      <td>1</td>\n",
       "      <td>0</td>\n",
       "      <td>...</td>\n",
       "      <td>0</td>\n",
       "      <td>0</td>\n",
       "      <td>0</td>\n",
       "      <td>0</td>\n",
       "      <td>0</td>\n",
       "      <td>0</td>\n",
       "      <td>0</td>\n",
       "      <td>0</td>\n",
       "      <td>0</td>\n",
       "      <td>0</td>\n",
       "    </tr>\n",
       "    <tr>\n",
       "      <td>5</td>\n",
       "      <td>12.95</td>\n",
       "      <td>0</td>\n",
       "      <td>1234567890123461</td>\n",
       "      <td>0</td>\n",
       "      <td>1</td>\n",
       "      <td>-2753</td>\n",
       "      <td>0</td>\n",
       "      <td>0</td>\n",
       "      <td>1</td>\n",
       "      <td>1</td>\n",
       "      <td>...</td>\n",
       "      <td>0</td>\n",
       "      <td>0</td>\n",
       "      <td>0</td>\n",
       "      <td>0</td>\n",
       "      <td>0</td>\n",
       "      <td>0</td>\n",
       "      <td>0</td>\n",
       "      <td>0</td>\n",
       "      <td>0</td>\n",
       "      <td>0</td>\n",
       "    </tr>\n",
       "    <tr>\n",
       "      <td>...</td>\n",
       "      <td>...</td>\n",
       "      <td>...</td>\n",
       "      <td>...</td>\n",
       "      <td>...</td>\n",
       "      <td>...</td>\n",
       "      <td>...</td>\n",
       "      <td>...</td>\n",
       "      <td>...</td>\n",
       "      <td>...</td>\n",
       "      <td>...</td>\n",
       "      <td>...</td>\n",
       "      <td>...</td>\n",
       "      <td>...</td>\n",
       "      <td>...</td>\n",
       "      <td>...</td>\n",
       "      <td>...</td>\n",
       "      <td>...</td>\n",
       "      <td>...</td>\n",
       "      <td>...</td>\n",
       "      <td>...</td>\n",
       "      <td>...</td>\n",
       "    </tr>\n",
       "    <tr>\n",
       "      <td>97996</td>\n",
       "      <td>10.36</td>\n",
       "      <td>14</td>\n",
       "      <td>1234567890194145</td>\n",
       "      <td>1</td>\n",
       "      <td>1</td>\n",
       "      <td>5169</td>\n",
       "      <td>0</td>\n",
       "      <td>0</td>\n",
       "      <td>0</td>\n",
       "      <td>0</td>\n",
       "      <td>...</td>\n",
       "      <td>0</td>\n",
       "      <td>0</td>\n",
       "      <td>0</td>\n",
       "      <td>0</td>\n",
       "      <td>0</td>\n",
       "      <td>0</td>\n",
       "      <td>0</td>\n",
       "      <td>0</td>\n",
       "      <td>0</td>\n",
       "      <td>0</td>\n",
       "    </tr>\n",
       "    <tr>\n",
       "      <td>97997</td>\n",
       "      <td>38.85</td>\n",
       "      <td>14</td>\n",
       "      <td>1234567890197179</td>\n",
       "      <td>1</td>\n",
       "      <td>0</td>\n",
       "      <td>5427</td>\n",
       "      <td>0</td>\n",
       "      <td>0</td>\n",
       "      <td>1</td>\n",
       "      <td>1</td>\n",
       "      <td>...</td>\n",
       "      <td>0</td>\n",
       "      <td>0</td>\n",
       "      <td>0</td>\n",
       "      <td>0</td>\n",
       "      <td>0</td>\n",
       "      <td>0</td>\n",
       "      <td>0</td>\n",
       "      <td>0</td>\n",
       "      <td>0</td>\n",
       "      <td>0</td>\n",
       "    </tr>\n",
       "    <tr>\n",
       "      <td>98000</td>\n",
       "      <td>49.95</td>\n",
       "      <td>14</td>\n",
       "      <td>1234567890197182</td>\n",
       "      <td>0</td>\n",
       "      <td>0</td>\n",
       "      <td>393</td>\n",
       "      <td>1</td>\n",
       "      <td>0</td>\n",
       "      <td>1</td>\n",
       "      <td>0</td>\n",
       "      <td>...</td>\n",
       "      <td>0</td>\n",
       "      <td>0</td>\n",
       "      <td>0</td>\n",
       "      <td>0</td>\n",
       "      <td>0</td>\n",
       "      <td>0</td>\n",
       "      <td>0</td>\n",
       "      <td>0</td>\n",
       "      <td>0</td>\n",
       "      <td>0</td>\n",
       "    </tr>\n",
       "    <tr>\n",
       "      <td>98001</td>\n",
       "      <td>11.01</td>\n",
       "      <td>14</td>\n",
       "      <td>1234567890196488</td>\n",
       "      <td>1</td>\n",
       "      <td>1</td>\n",
       "      <td>4261</td>\n",
       "      <td>0</td>\n",
       "      <td>0</td>\n",
       "      <td>1</td>\n",
       "      <td>1</td>\n",
       "      <td>...</td>\n",
       "      <td>0</td>\n",
       "      <td>0</td>\n",
       "      <td>0</td>\n",
       "      <td>0</td>\n",
       "      <td>0</td>\n",
       "      <td>0</td>\n",
       "      <td>0</td>\n",
       "      <td>0</td>\n",
       "      <td>0</td>\n",
       "      <td>0</td>\n",
       "    </tr>\n",
       "    <tr>\n",
       "      <td>98002</td>\n",
       "      <td>12.95</td>\n",
       "      <td>14</td>\n",
       "      <td>1234567890197183</td>\n",
       "      <td>1</td>\n",
       "      <td>0</td>\n",
       "      <td>515</td>\n",
       "      <td>0</td>\n",
       "      <td>0</td>\n",
       "      <td>0</td>\n",
       "      <td>0</td>\n",
       "      <td>...</td>\n",
       "      <td>0</td>\n",
       "      <td>0</td>\n",
       "      <td>0</td>\n",
       "      <td>0</td>\n",
       "      <td>0</td>\n",
       "      <td>0</td>\n",
       "      <td>0</td>\n",
       "      <td>0</td>\n",
       "      <td>0</td>\n",
       "      <td>0</td>\n",
       "    </tr>\n",
       "  </tbody>\n",
       "</table>\n",
       "<p>68003 rows × 68 columns</p>\n",
       "</div>"
      ],
      "text/plain": [
       "       amount  hour        account_id  field2  flag1  field3  indicator1  \\\n",
       "0       12.95     0  1234567890123456       0      0    -723           0   \n",
       "2       38.85     0  1234567890123458       1      0   -4420           0   \n",
       "3       12.95     0  1234567890123459       0      0    5010           0   \n",
       "4       38.85     0  1234567890123460       1      0   -4074           0   \n",
       "5       12.95     0  1234567890123461       0      1   -2753           0   \n",
       "...       ...   ...               ...     ...    ...     ...         ...   \n",
       "97996   10.36    14  1234567890194145       1      1    5169           0   \n",
       "97997   38.85    14  1234567890197179       1      0    5427           0   \n",
       "98000   49.95    14  1234567890197182       0      0     393           1   \n",
       "98001   11.01    14  1234567890196488       1      1    4261           0   \n",
       "98002   12.95    14  1234567890197183       1      0     515           0   \n",
       "\n",
       "       indicator2  flag2  flag3  ...  flag5_6  flag5_7  flag5_8  flag5_9  \\\n",
       "0               0      0      0  ...        0        0        0        0   \n",
       "2               0      1      1  ...        0        0        0        0   \n",
       "3               0      1      0  ...        0        0        0        0   \n",
       "4               0      1      0  ...        0        0        0        0   \n",
       "5               0      1      1  ...        0        0        0        0   \n",
       "...           ...    ...    ...  ...      ...      ...      ...      ...   \n",
       "97996           0      0      0  ...        0        0        0        0   \n",
       "97997           0      1      1  ...        0        0        0        0   \n",
       "98000           0      1      0  ...        0        0        0        0   \n",
       "98001           0      1      1  ...        0        0        0        0   \n",
       "98002           0      0      0  ...        0        0        0        0   \n",
       "\n",
       "       flag5_98  flag5_100  flag5_364  flag5_1434  flag5_1600  flag5_1643  \n",
       "0             0          0          0           0           0           0  \n",
       "2             0          0          0           0           0           0  \n",
       "3             0          0          0           0           0           0  \n",
       "4             0          0          0           0           0           0  \n",
       "5             0          0          0           0           0           0  \n",
       "...         ...        ...        ...         ...         ...         ...  \n",
       "97996         0          0          0           0           0           0  \n",
       "97997         0          0          0           0           0           0  \n",
       "98000         0          0          0           0           0           0  \n",
       "98001         0          0          0           0           0           0  \n",
       "98002         0          0          0           0           0           0  \n",
       "\n",
       "[68003 rows x 68 columns]"
      ]
     },
     "execution_count": 432,
     "metadata": {},
     "output_type": "execute_result"
    }
   ],
   "source": []
  },
  {
   "cell_type": "code",
   "execution_count": null,
   "metadata": {},
   "outputs": [],
   "source": []
  }
 ],
 "metadata": {
  "kernelspec": {
   "display_name": "Python 3",
   "language": "python",
   "name": "python3"
  },
  "language_info": {
   "codemirror_mode": {
    "name": "ipython",
    "version": 3
   },
   "file_extension": ".py",
   "mimetype": "text/x-python",
   "name": "python",
   "nbconvert_exporter": "python",
   "pygments_lexer": "ipython3",
   "version": "3.7.4"
  }
 },
 "nbformat": 4,
 "nbformat_minor": 4
}
